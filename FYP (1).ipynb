{
 "cells": [
  {
   "cell_type": "markdown",
   "id": "cfb9b1be",
   "metadata": {},
   "source": [
    "<h2 style='text-align: Center'> Fake News Detection Prototype</h2>\n",
    "<p style='text-align: Center'>CM3070 Final Year </p>"
   ]
  },
  {
   "cell_type": "markdown",
   "id": "64595cde",
   "metadata": {},
   "source": [
    "<h2>Introduction </h2>"
   ]
  },
  {
   "cell_type": "markdown",
   "id": "84911f1e",
   "metadata": {},
   "source": [
    "<h2>Model 1 : Passive Aggressive Classifier (Baseline Model) </h2>"
   ]
  },
  {
   "cell_type": "code",
   "execution_count": 1,
   "id": "8631d037",
   "metadata": {},
   "outputs": [],
   "source": [
    "# import the libraries\n",
    "import numpy as np\n",
    "import pandas as pd\n",
    "import itertools\n",
    "import seaborn as sn\n",
    "import pandas as pd\n",
    "import matplotlib.pyplot as plt\n",
    "from sklearn.model_selection import train_test_split\n",
    "from sklearn.feature_extraction.text import TfidfVectorizer\n",
    "from sklearn.linear_model import PassiveAggressiveClassifier\n",
    "from sklearn.metrics import accuracy_score, confusion_matrix, classification_report"
   ]
  },
  {
   "cell_type": "code",
   "execution_count": 2,
   "id": "38e52873",
   "metadata": {},
   "outputs": [],
   "source": [
    "#load the files\n",
    "train = pd.read_csv('train.csv')\n",
    "test = pd.read_csv('test.csv')\n",
    "test = test.set_index('id', drop = True)"
   ]
  },
  {
   "cell_type": "code",
   "execution_count": 3,
   "id": "83fe05cc",
   "metadata": {},
   "outputs": [
    {
     "name": "stdout",
     "output_type": "stream",
     "text": [
      "Shape of Training Data:  (20800, 5)\n",
      "\n",
      " \n",
      " TRAIN \n",
      "    id                                              title              author  \\\n",
      "0   0  House Dem Aide: We Didn’t Even See Comey’s Let...       Darrell Lucus   \n",
      "1   1  FLYNN: Hillary Clinton, Big Woman on Campus - ...     Daniel J. Flynn   \n",
      "2   2                  Why the Truth Might Get You Fired  Consortiumnews.com   \n",
      "3   3  15 Civilians Killed In Single US Airstrike Hav...     Jessica Purkiss   \n",
      "4   4  Iranian woman jailed for fictional unpublished...      Howard Portnoy   \n",
      "\n",
      "                                                text  label  \n",
      "0  House Dem Aide: We Didn’t Even See Comey’s Let...      1  \n",
      "1  Ever get the feeling your life circles the rou...      0  \n",
      "2  Why the Truth Might Get You Fired October 29, ...      1  \n",
      "3  Videos 15 Civilians Killed In Single US Airstr...      1  \n",
      "4  Print \\nAn Iranian woman has been sentenced to...      1  \n",
      "\n",
      " \n",
      " TEST \n",
      "                                                    title  \\\n",
      "id                                                         \n",
      "20800  Specter of Trump Loosens Tongues, if Not Purse...   \n",
      "20801  Russian warships ready to strike terrorists ne...   \n",
      "20802  #NoDAPL: Native American Leaders Vow to Stay A...   \n",
      "20803  Tim Tebow Will Attempt Another Comeback, This ...   \n",
      "20804                    Keiser Report: Meme Wars (E995)   \n",
      "\n",
      "                        author  \\\n",
      "id                               \n",
      "20800         David Streitfeld   \n",
      "20801                      NaN   \n",
      "20802            Common Dreams   \n",
      "20803            Daniel Victor   \n",
      "20804  Truth Broadcast Network   \n",
      "\n",
      "                                                    text  \n",
      "id                                                        \n",
      "20800  PALO ALTO, Calif.  —   After years of scorning...  \n",
      "20801  Russian warships ready to strike terrorists ne...  \n",
      "20802  Videos #NoDAPL: Native American Leaders Vow to...  \n",
      "20803  If at first you don’t succeed, try a different...  \n",
      "20804  42 mins ago 1 Views 0 Comments 0 Likes 'For th...  \n",
      "\n",
      " \n",
      "Number of Null values in Train Set:  39\n",
      "Number of Null values in Test Set:  7\n"
     ]
    }
   ],
   "source": [
    "# Counting number of rows and columns in the data\n",
    "print('Shape of Training Data: ', train.shape)\n",
    "\n",
    "# Gettiing a hang of the data in each column and their names\n",
    "print('\\n \\n TRAIN \\n', train.head())\n",
    "print('\\n \\n TEST \\n', test.head())\n",
    "\n",
    "# Looking for any places where training data has NaN values\n",
    "print('\\n \\nNumber of Null values in Train Set: ', train['text'].isna().sum())\n",
    "print('Number of Null values in Test Set: ', test['text'].isna().sum())\n",
    "\n",
    "# Dropping all rows where text column is NaN\n",
    "train.dropna(axis=0, how=\"any\", thresh=None, subset=['text'], inplace=True)\n",
    "test = test.fillna(' ')"
   ]
  },
  {
   "cell_type": "code",
   "execution_count": 4,
   "id": "c0fe6666",
   "metadata": {},
   "outputs": [
    {
     "name": "stdout",
     "output_type": "stream",
     "text": [
      "Minimum Length:  1 \n",
      "Maximum Length:  142961 \n",
      "Average Length:  4553\n"
     ]
    }
   ],
   "source": [
    "# Checking length of each article\n",
    "length = []\n",
    "[length.append(len(str(text))) for text in train['text']]\n",
    "train['length'] = length\n",
    "print('Minimum Length: ', min(train['length']), '\\nMaximum Length: ', max(train['length']), '\\nAverage Length: ', round(sum(train['length'])/len(train['length'])))"
   ]
  },
  {
   "cell_type": "code",
   "execution_count": 5,
   "id": "10b7d68f",
   "metadata": {},
   "outputs": [
    {
     "name": "stdout",
     "output_type": "stream",
     "text": [
      "Number of articles with less than 50 words:  207\n",
      "82                                                   \n",
      "169                                                  \n",
      "173                                   Guest   Guest  \n",
      "196            They got the heater turned up on high.\n",
      "295                                                  \n",
      "                             ...                     \n",
      "20350                         I hope nobody got hurt!\n",
      "20418                                 Guest   Guest  \n",
      "20431    \\nOctober 28, 2016 The Mothers by stclair by\n",
      "20513                                                \n",
      "20636                              Trump all the way!\n",
      "Name: text, Length: 207, dtype: object\n"
     ]
    }
   ],
   "source": [
    "# Spot outliers and remove them.\n",
    "print('Number of articles with less than 50 words: ', len(train[train['length'] < 50]))\n",
    "# Skimming through such short texts just to be sure\n",
    "print(train['text'][train['length'] < 50])"
   ]
  },
  {
   "cell_type": "code",
   "execution_count": 6,
   "id": "4ee69ef1",
   "metadata": {},
   "outputs": [
    {
     "name": "stdout",
     "output_type": "stream",
     "text": [
      "Minimum Length:  50 \n",
      "Maximum Length:  142961 \n",
      "Average Length:  4598\n"
     ]
    }
   ],
   "source": [
    "# Removing outliers, it will reduce overfitting\n",
    "train = train.drop(train['text'][train['length'] < 50].index, axis = 0)\n",
    "print('Minimum Length: ', min(train['length']), '\\nMaximum Length: ', max(train['length']), '\\nAverage Length: ', round(sum(train['length'])/len(train['length'])))"
   ]
  },
  {
   "cell_type": "code",
   "execution_count": 7,
   "id": "2c7af296",
   "metadata": {},
   "outputs": [],
   "source": [
    "# Secluding labels in a new pandas dataframe for supervised learning\n",
    "train_labels = train['label']\n",
    "# Splitting data into training and testing sets\n",
    "x_train, x_test, y_train, y_test = train_test_split(train['text'], train_labels, test_size=0.1, random_state=0)"
   ]
  },
  {
   "cell_type": "code",
   "execution_count": 8,
   "id": "a5136443",
   "metadata": {},
   "outputs": [],
   "source": [
    "# Set up Tfidf Vectorizer\n",
    "tfidf = TfidfVectorizer(stop_words = 'english', max_df = 0.7)\n",
    "\n",
    "# Fit and transform training set \n",
    "tfidf_train = tfidf.fit_transform(x_train)\n",
    "# Transform test set\n",
    "tfidf_test = tfidf.transform(x_test)\n",
    "tfidf_test_final = tfidf.transform(test['text'])"
   ]
  },
  {
   "cell_type": "code",
   "execution_count": 9,
   "id": "9fbb17ee",
   "metadata": {},
   "outputs": [
    {
     "name": "stdout",
     "output_type": "stream",
     "text": [
      " Baseline Accuracy: 96.89%\n"
     ]
    }
   ],
   "source": [
    "# Set up Passive Aggressive Classifier\n",
    "pac = PassiveAggressiveClassifier(max_iter = 50)\n",
    "\n",
    "# Fit on the training set\n",
    "pac.fit(tfidf_train, y_train)\n",
    "\n",
    "# Predict the test set\n",
    "y_pred = pac.predict(tfidf_test)\n",
    "score = accuracy_score(y_test, y_pred)\n",
    "print(f' Baseline Accuracy: {round(score * 100, 2)}%')"
   ]
  },
  {
   "cell_type": "code",
   "execution_count": 10,
   "id": "eae2e699",
   "metadata": {},
   "outputs": [
    {
     "data": {
      "image/png": "[encoded data removed]",
      "text/plain": [
       "<Figure size 432x288 with 2 Axes>"
      ]
     },
     "metadata": {},
     "output_type": "display_data"
    }
   ],
   "source": [
    "# Creating confusion matrix with columns as True Positive, False Negative, False Positive and True Negative \n",
    "cm = confusion_matrix(y_test, y_pred, labels=[0, 1])\n",
    "df_cm = pd.DataFrame(cm, range(2), range(2))\n",
    "sn.set(font_scale=1)\n",
    "sn.heatmap(df_cm, annot=True, annot_kws={'size':14}, fmt='d').set_title('Baseline Confusion Matrix')\n",
    "plt.show()"
   ]
  },
  {
   "cell_type": "code",
   "execution_count": 11,
   "id": "25c01050",
   "metadata": {},
   "outputs": [
    {
     "name": "stdout",
     "output_type": "stream",
     "text": [
      "                  Predicted Fake News  Predicted Real News\n",
      "Actual Fake News                 1032                   33\n",
      "Actual Real News                   31                  960\n"
     ]
    }
   ],
   "source": [
    "print(pd.DataFrame(confusion_matrix(y_test, y_pred),\n",
    "             columns=['Predicted Fake News', \"Predicted Real News\"], index=['Actual Fake News', 'Actual Real News']))"
   ]
  },
  {
   "cell_type": "code",
   "execution_count": 12,
   "id": "2a3465e3",
   "metadata": {},
   "outputs": [
    {
     "name": "stdout",
     "output_type": "stream",
     "text": [
      "Baseline Classification Report:\n",
      "\n",
      "              precision    recall  f1-score   support\n",
      "\n",
      "           0       0.97      0.97      0.97      1065\n",
      "           1       0.97      0.97      0.97       991\n",
      "\n",
      "    accuracy                           0.97      2056\n",
      "   macro avg       0.97      0.97      0.97      2056\n",
      "weighted avg       0.97      0.97      0.97      2056\n",
      "\n"
     ]
    }
   ],
   "source": [
    "# Creating classification report\n",
    "print('Baseline Classification Report:\\n')\n",
    "print(classification_report(y_test, (y_pred > 0.5)))"
   ]
  },
  {
   "cell_type": "markdown",
   "id": "fba41f3a",
   "metadata": {},
   "source": [
    "<h2>Model 2: Support Vector Machine Model</h2>"
   ]
  },
  {
   "cell_type": "code",
   "execution_count": 20,
   "id": "4af3494b",
   "metadata": {},
   "outputs": [],
   "source": [
    "# Import necessary libraries\n",
    "# import numpy as np\n",
    "# import pandas as pd\n",
    "# import seaborn as sn\n",
    "import matplotlib.pyplot as plt\n",
    "from sklearn.model_selection import train_test_split\n",
    "from sklearn.feature_extraction.text import TfidfVectorizer\n"
   ]
  },
  {
   "cell_type": "code",
   "execution_count": 21,
   "id": "62724d53",
   "metadata": {},
   "outputs": [],
   "source": [
    "# Load the files\n",
    "train = pd.read_csv('train.csv')\n",
    "test = pd.read_csv('test.csv')\n",
    "test = test.set_index('id', drop=True)"
   ]
  },
  {
   "cell_type": "code",
   "execution_count": 22,
   "id": "ba8964a4",
   "metadata": {},
   "outputs": [],
   "source": [
    "# Dropping rows with NaN values in the \"text\" column\n",
    "train.dropna(axis=0, how=\"any\", thresh=None, subset=['text'], inplace=True)\n",
    "test = test.fillna(' ')"
   ]
  },
  {
   "cell_type": "code",
   "execution_count": 23,
   "id": "50a25c02",
   "metadata": {},
   "outputs": [],
   "source": [
    "# Removing outliers\n",
    "train = train[train['text'].str.len() > 50]\n"
   ]
  },
  {
   "cell_type": "code",
   "execution_count": 24,
   "id": "62a77950",
   "metadata": {},
   "outputs": [],
   "source": [
    "# Secluding labels in a new pandas dataframe for supervised learning\n",
    "train_labels = train['label']\n",
    "\n",
    "# Splitting data into training and testing sets\n",
    "x_train, x_test, y_train, y_test = train_test_split(train['text'], train_labels, test_size=0.1, random_state=0)"
   ]
  },
  {
   "cell_type": "code",
   "execution_count": 25,
   "id": "db138f01",
   "metadata": {},
   "outputs": [],
   "source": [
    "# Setting up Tfidf Vectorizer\n",
    "tfidf = TfidfVectorizer(stop_words='english', max_df=0.7)\n",
    "\n",
    "# Fit and transform training set\n",
    "tfidf_train = tfidf.fit_transform(x_train)\n",
    "# Transform test set\n",
    "tfidf_test = tfidf.transform(x_test)\n",
    "tfidf_test_final = tfidf.transform(test['text'])\n"
   ]
  },
  {
   "cell_type": "code",
   "execution_count": 26,
   "id": "9c75321b",
   "metadata": {},
   "outputs": [],
   "source": [
    "from sklearn.svm import SVC"
   ]
  },
  {
   "cell_type": "code",
   "execution_count": 27,
   "id": "5c7fcd76",
   "metadata": {},
   "outputs": [],
   "source": [
    "# Set up Support Vector Machine (SVM) Classifier\n",
    "svm_classifier = SVC(kernel='linear', C=1.0)\n",
    "\n",
    "# Fit the SVM classifier on the training set\n",
    "svm_classifier.fit(tfidf_train, y_train)\n",
    "\n",
    "# Predict the test set\n",
    "y_pred_svm = svm_classifier.predict(tfidf_test)"
   ]
  },
  {
   "cell_type": "code",
   "execution_count": 28,
   "id": "0532e584",
   "metadata": {},
   "outputs": [
    {
     "name": "stdout",
     "output_type": "stream",
     "text": [
      "Model 2 Accuracy: 96.94%\n"
     ]
    }
   ],
   "source": [
    "from sklearn.metrics import accuracy_score\n",
    "\n",
    "# Calculating accuracy\n",
    "score_svm = accuracy_score(y_test, y_pred_svm)\n",
    "print(f'Model 2 Accuracy: {round(score_svm * 100, 2)}%')"
   ]
  },
  {
   "cell_type": "code",
   "execution_count": 29,
   "id": "1a5ef257",
   "metadata": {},
   "outputs": [
    {
     "data": {
      "image/png": "[encoded data removed]",
      "text/plain": [
       "<Figure size 432x288 with 2 Axes>"
      ]
     },
     "metadata": {},
     "output_type": "display_data"
    }
   ],
   "source": [
    "from sklearn.metrics import confusion_matrix\n",
    "\n",
    "# Creating confusion matrix with columns as True Positive, False Negative, False Positive, and True Negative\n",
    "cm_svm = confusion_matrix(y_test, y_pred_svm, labels=[0, 1])\n",
    "df_cm_svm = pd.DataFrame(cm_svm, range(2), range(2))\n",
    "sn.set(font_scale=1)\n",
    "sn.heatmap(df_cm_svm, annot=True, annot_kws={'size': 14}, fmt='d').set_title('Model 2 Confusion Matrix')\n",
    "plt.show()"
   ]
  },
  {
   "cell_type": "code",
   "execution_count": 30,
   "id": "81a7bdab",
   "metadata": {},
   "outputs": [
    {
     "name": "stdout",
     "output_type": "stream",
     "text": [
      "                  Predicted Fake News  Predicted Real News\n",
      "Actual Fake News                  612                  445\n",
      "Actual Real News                  451                  548\n"
     ]
    }
   ],
   "source": [
    "print(pd.DataFrame(confusion_matrix(y_test, y_pred),\n",
    "             columns=['Predicted Fake News', \"Predicted Real News\"], index=['Actual Fake News', 'Actual Real News']))"
   ]
  },
  {
   "cell_type": "code",
   "execution_count": 31,
   "id": "b1ab25fb",
   "metadata": {},
   "outputs": [
    {
     "name": "stdout",
     "output_type": "stream",
     "text": [
      "Model 2 Classification Report:\n",
      "\n",
      "              precision    recall  f1-score   support\n",
      "\n",
      "           0       0.98      0.96      0.97      1057\n",
      "           1       0.96      0.98      0.97       999\n",
      "\n",
      "    accuracy                           0.97      2056\n",
      "   macro avg       0.97      0.97      0.97      2056\n",
      "weighted avg       0.97      0.97      0.97      2056\n",
      "\n"
     ]
    }
   ],
   "source": [
    "from sklearn.metrics import classification_report\n",
    "\n",
    "# Creating classification report\n",
    "print('Model 2 Classification Report:\\n')\n",
    "print(classification_report(y_test, y_pred_svm))\n"
   ]
  },
  {
   "cell_type": "markdown",
   "id": "198e6612",
   "metadata": {},
   "source": [
    "<h2>Model 3 : Multinomial Naive Bayes Model </h2>"
   ]
  },
  {
   "cell_type": "code",
   "execution_count": 32,
   "id": "40e9b687",
   "metadata": {},
   "outputs": [],
   "source": [
    "# Import necessary libraries\n",
    "import numpy as np\n",
    "import pandas as pd\n",
    "import seaborn as sn\n",
    "import matplotlib.pyplot as plt\n",
    "from sklearn.model_selection import train_test_split\n",
    "from sklearn.feature_extraction.text import TfidfVectorizer\n"
   ]
  },
  {
   "cell_type": "code",
   "execution_count": 33,
   "id": "92feeaea",
   "metadata": {},
   "outputs": [],
   "source": [
    "# Load the data\n",
    "train = pd.read_csv('train.csv')\n",
    "test = pd.read_csv('test.csv')\n",
    "test = test.set_index('id', drop=True)"
   ]
  },
  {
   "cell_type": "code",
   "execution_count": 34,
   "id": "1cb1d191",
   "metadata": {},
   "outputs": [],
   "source": [
    "# Drop rows with NaN values in the \"text\" column \n",
    "train.dropna(axis=0, how=\"any\", thresh=None, subset=['text'], inplace=True)\n",
    "test = test.fillna(' ')"
   ]
  },
  {
   "cell_type": "code",
   "execution_count": 35,
   "id": "1dc78d71",
   "metadata": {},
   "outputs": [],
   "source": [
    "# Remove outliers \n",
    "train = train[train['text'].str.len() > 50]"
   ]
  },
  {
   "cell_type": "code",
   "execution_count": 36,
   "id": "ca577680",
   "metadata": {},
   "outputs": [],
   "source": [
    "# Seclude labels in a new pandas dataframe for supervised learning\n",
    "train_labels = train['label']\n",
    "\n",
    "# Split the data into training and testing sets\n",
    "x_train, x_test, y_train, y_test = train_test_split(train['text'], train_labels, test_size=0.1, random_state=0)"
   ]
  },
  {
   "cell_type": "code",
   "execution_count": 37,
   "id": "70f123ca",
   "metadata": {},
   "outputs": [],
   "source": [
    "# Set up a Tfidf Vectorizer\n",
    "tfidf = TfidfVectorizer(stop_words='english', max_df=0.7)\n",
    "\n",
    "# Fit and transform the training set \n",
    "tfidf_train = tfidf.fit_transform(x_train)\n",
    "\n",
    "# Transform the test set\n",
    "tfidf_test = tfidf.transform(x_test)"
   ]
  },
  {
   "cell_type": "code",
   "execution_count": 38,
   "id": "4875b693",
   "metadata": {},
   "outputs": [
    {
     "data": {
      "text/plain": [
       "MultinomialNB()"
      ]
     },
     "execution_count": 38,
     "metadata": {},
     "output_type": "execute_result"
    }
   ],
   "source": [
    "from sklearn.naive_bayes import MultinomialNB\n",
    "\n",
    "# Set up a Multinomial Naive Bayes classifier\n",
    "nb_classifier = MultinomialNB()\n",
    "\n",
    "# Fit the Multinomial Naive Bayes classifier\n",
    "nb_classifier.fit(tfidf_train, y_train)"
   ]
  },
  {
   "cell_type": "code",
   "execution_count": 39,
   "id": "4ac28be9",
   "metadata": {},
   "outputs": [],
   "source": [
    "# Predicting on the test set\n",
    "y_pred_nb = nb_classifier.predict(tfidf_test)\n"
   ]
  },
  {
   "cell_type": "code",
   "execution_count": 40,
   "id": "3c2e9fc4",
   "metadata": {},
   "outputs": [
    {
     "name": "stdout",
     "output_type": "stream",
     "text": [
      " Model 3 Accuracy: 86.82%\n"
     ]
    }
   ],
   "source": [
    "from sklearn.metrics import accuracy_score\n",
    "\n",
    "# Calculate accuracy\n",
    "accuracy_nb = accuracy_score(y_test, y_pred_nb)\n",
    "print(f' Model 3 Accuracy: {round(accuracy_nb * 100, 2)}%')"
   ]
  },
  {
   "cell_type": "code",
   "execution_count": 41,
   "id": "bb1bde89",
   "metadata": {},
   "outputs": [
    {
     "data": {
      "image/png": "[encoded data removed]",
      "text/plain": [
       "<Figure size 432x288 with 2 Axes>"
      ]
     },
     "metadata": {},
     "output_type": "display_data"
    }
   ],
   "source": [
    "from sklearn.metrics import confusion_matrix\n",
    "\n",
    "# Create a confusion matrix\n",
    "cm_nb = confusion_matrix(y_test, y_pred_nb, labels=[0, 1])\n",
    "df_cm_nb = pd.DataFrame(cm_nb, range(2), range(2))\n",
    "sn.set(font_scale=1)\n",
    "sn.heatmap(df_cm_nb, annot=True, annot_kws={'size': 14}, fmt='d').set_title('Model 3Confusion Matrix')\n",
    "plt.show()\n"
   ]
  },
  {
   "cell_type": "code",
   "execution_count": 42,
   "id": "c8addb56",
   "metadata": {},
   "outputs": [
    {
     "name": "stdout",
     "output_type": "stream",
     "text": [
      "                  Predicted Fake News  Predicted Real News\n",
      "Actual Fake News                  612                  445\n",
      "Actual Real News                  451                  548\n"
     ]
    }
   ],
   "source": [
    "print(pd.DataFrame(confusion_matrix(y_test, y_pred),\n",
    "             columns=['Predicted Fake News', \"Predicted Real News\"], index=['Actual Fake News', 'Actual Real News']))"
   ]
  },
  {
   "cell_type": "code",
   "execution_count": 43,
   "id": "8de85a8d",
   "metadata": {},
   "outputs": [
    {
     "name": "stdout",
     "output_type": "stream",
     "text": [
      " Model 3 Classification Report:\n",
      "\n",
      "              precision    recall  f1-score   support\n",
      "\n",
      "           0       0.80      0.99      0.89      1057\n",
      "           1       0.98      0.74      0.85       999\n",
      "\n",
      "    accuracy                           0.87      2056\n",
      "   macro avg       0.89      0.86      0.87      2056\n",
      "weighted avg       0.89      0.87      0.87      2056\n",
      "\n"
     ]
    }
   ],
   "source": [
    "from sklearn.metrics import classification_report\n",
    "\n",
    "# Generate a classification report\n",
    "print(' Model 3 Classification Report:\\n')\n",
    "print(classification_report(y_test, y_pred_nb)) "
   ]
  },
  {
   "cell_type": "markdown",
   "id": "d782bf81",
   "metadata": {},
   "source": [
    "<h2>Model 4 : TensorFlow Model</h2>"
   ]
  },
  {
   "cell_type": "code",
   "execution_count": 44,
   "id": "d57c652c",
   "metadata": {},
   "outputs": [],
   "source": [
    "# Import necessary libraries\n",
    "import numpy as np\n",
    "import pandas as pd\n",
    "import seaborn as sn\n",
    "import matplotlib.pyplot as plt\n",
    "from sklearn.model_selection import train_test_split\n"
   ]
  },
  {
   "cell_type": "code",
   "execution_count": 45,
   "id": "7282363f",
   "metadata": {},
   "outputs": [],
   "source": [
    "# Load the data\n",
    "train = pd.read_csv('train.csv')\n",
    "test = pd.read_csv('test.csv')\n",
    "test = test.set_index('id', drop=True)"
   ]
  },
  {
   "cell_type": "code",
   "execution_count": 46,
   "id": "ffa0cdef",
   "metadata": {},
   "outputs": [],
   "source": [
    "# Drop rows with NaN values in the \"text\" column \n",
    "train.dropna(axis=0, how=\"any\", thresh=None, subset=['text'], inplace=True)\n",
    "test = test.fillna(' ')"
   ]
  },
  {
   "cell_type": "code",
   "execution_count": 47,
   "id": "5fac06b4",
   "metadata": {},
   "outputs": [],
   "source": [
    "# Remove outliers \n",
    "train = train[train['text'].str.len() > 50]"
   ]
  },
  {
   "cell_type": "code",
   "execution_count": 48,
   "id": "3416d394",
   "metadata": {},
   "outputs": [],
   "source": [
    "# Seclude labels in a new pandas dataframe for supervised learning\n",
    "train_labels = train['label']"
   ]
  },
  {
   "cell_type": "code",
   "execution_count": 49,
   "id": "dd27d4d0",
   "metadata": {},
   "outputs": [],
   "source": [
    "# Split the data into training and testing sets\n",
    "x_train, x_test, y_train, y_test = train_test_split(train['text'], train_labels, test_size=0.1, random_state=0)"
   ]
  },
  {
   "cell_type": "code",
   "execution_count": 50,
   "id": "9aea625a",
   "metadata": {},
   "outputs": [],
   "source": [
    "from sklearn.feature_extraction.text import TfidfVectorizer\n",
    "\n",
    "# Setting up Tfidf Vectorizer\n",
    "tfidf = TfidfVectorizer(stop_words='english', max_df=0.7)\n",
    "\n",
    "# Fit and transform the training set and transform the test set\n",
    "tfidf_train = tfidf.fit_transform(x_train)\n",
    "tfidf_test = tfidf.transform(x_test)"
   ]
  },
  {
   "cell_type": "code",
   "execution_count": 51,
   "id": "a1f2a10c",
   "metadata": {},
   "outputs": [],
   "source": [
    "from tensorflow.keras.preprocessing.text import Tokenizer\n",
    "from tensorflow.keras.preprocessing.sequence import pad_sequences\n",
    "\n",
    "# Tokenize text data to fit for testing\n",
    "# Maximum number of words in the vocabulary\n",
    "max_words = 5000  \n",
    "tokenizer = Tokenizer(num_words=max_words)\n",
    "tokenizer.fit_on_texts(x_train)\n",
    "\n",
    "x_train_sequences = tokenizer.texts_to_sequences(x_train)\n",
    "x_test_sequences = tokenizer.texts_to_sequences(x_test)\n",
    "\n",
    "# Pad sequences to a fixed length\n",
    "max_sequence_length = 200  \n",
    "x_train_padded = pad_sequences(x_train_sequences, maxlen=max_sequence_length, padding='post', truncating='post')\n",
    "x_test_padded = pad_sequences(x_test_sequences, maxlen=max_sequence_length, padding='post', truncating='post')\n"
   ]
  },
  {
   "cell_type": "code",
   "execution_count": 52,
   "id": "68c4c088",
   "metadata": {},
   "outputs": [],
   "source": [
    "from tensorflow.keras.models import Sequential\n",
    "from tensorflow.keras.layers import Embedding, Flatten, Dense, Dropout\n",
    "from tensorflow.keras.callbacks import EarlyStopping\n",
    "\n",
    "# Define, squence and build the neural network model\n",
    "model = Sequential()\n",
    "model.add(Embedding(input_dim=max_words, output_dim=128, input_length=max_sequence_length))\n",
    "model.add(Flatten())\n",
    "model.add(Dense(64, activation='relu'))\n",
    "model.add(Dropout(0.5))\n",
    "model.add(Dense(1, activation='sigmoid'))\n",
    "\n",
    "# Define the functions\n",
    "model.compile(loss='binary_crossentropy', optimizer='adam', metrics=['accuracy'])\n",
    "\n",
    "# Define early stopping to prevent overfitting\n",
    "early_stopping = EarlyStopping(patience=3, restore_best_weights=True)\n"
   ]
  },
  {
   "cell_type": "code",
   "execution_count": 53,
   "id": "5c0745cc",
   "metadata": {},
   "outputs": [
    {
     "name": "stdout",
     "output_type": "stream",
     "text": [
      "Epoch 1/10\n",
      "289/289 [==============================] - 6s 18ms/step - loss: 0.2042 - accuracy: 0.9111 - val_loss: 0.0867 - val_accuracy: 0.9640\n",
      "Epoch 2/10\n",
      "289/289 [==============================] - 5s 16ms/step - loss: 0.0210 - accuracy: 0.9942 - val_loss: 0.1107 - val_accuracy: 0.9572\n",
      "Epoch 3/10\n",
      "289/289 [==============================] - 5s 18ms/step - loss: 0.0039 - accuracy: 0.9994 - val_loss: 0.1070 - val_accuracy: 0.9616\n",
      "Epoch 4/10\n",
      "289/289 [==============================] - 5s 19ms/step - loss: 7.6375e-04 - accuracy: 1.0000 - val_loss: 0.1121 - val_accuracy: 0.9640\n"
     ]
    },
    {
     "data": {
      "text/plain": [
       "<keras.callbacks.History at 0x2bf1aa71a30>"
      ]
     },
     "execution_count": 53,
     "metadata": {},
     "output_type": "execute_result"
    }
   ],
   "source": [
    "# Train the model using the relevant values\n",
    "model.fit(x_train_padded, y_train, epochs=10, batch_size=64, validation_data=(x_test_padded, y_test), callbacks=[early_stopping])"
   ]
  },
  {
   "cell_type": "code",
   "execution_count": 54,
   "id": "9db91302",
   "metadata": {},
   "outputs": [
    {
     "name": "stdout",
     "output_type": "stream",
     "text": [
      "65/65 [==============================] - 2s 25ms/step\n",
      " Model 4 Accuracy: 0.96\n"
     ]
    }
   ],
   "source": [
    "from sklearn.metrics import accuracy_score\n",
    "\n",
    "# Evaluate the model\n",
    "y_pred = (model.predict(x_test_padded) > 0.5).astype(int)\n",
    "accuracy = accuracy_score(y_test, y_pred)\n",
    "print(f' Model 4 Accuracy: {accuracy:.2f}')"
   ]
  },
  {
   "cell_type": "code",
   "execution_count": 55,
   "id": "a21aa8e5",
   "metadata": {},
   "outputs": [
    {
     "data": {
      "image/png": "[encoded data removed]",
      "text/plain": [
       "<Figure size 432x288 with 2 Axes>"
      ]
     },
     "metadata": {},
     "output_type": "display_data"
    }
   ],
   "source": [
    "from sklearn.metrics import confusion_matrix\n",
    "\n",
    "# Create a confusion matrix\n",
    "cm = confusion_matrix(y_test, y_pred, labels=[0, 1])\n",
    "df_cm = pd.DataFrame(cm, range(2), range(2))\n",
    "sn.set(font_scale=1)\n",
    "sn.heatmap(df_cm, annot=True, annot_kws={'size': 14}, fmt='d').set_title(' Model 4 Confusion Matrix')\n",
    "plt.show()\n"
   ]
  },
  {
   "cell_type": "code",
   "execution_count": 56,
   "id": "8bf8880a",
   "metadata": {},
   "outputs": [
    {
     "name": "stdout",
     "output_type": "stream",
     "text": [
      "Model 4 Classification Report:\n",
      "\n",
      "              precision    recall  f1-score   support\n",
      "\n",
      "           0       0.96      0.97      0.97      1057\n",
      "           1       0.96      0.96      0.96       999\n",
      "\n",
      "    accuracy                           0.96      2056\n",
      "   macro avg       0.96      0.96      0.96      2056\n",
      "weighted avg       0.96      0.96      0.96      2056\n",
      "\n"
     ]
    }
   ],
   "source": [
    "from sklearn.metrics import classification_report\n",
    "\n",
    "# Generate a classification report\n",
    "print('Model 4 Classification Report:\\n')\n",
    "print(classification_report(y_test, y_pred))"
   ]
  },
  {
   "cell_type": "markdown",
   "id": "a45a24ed",
   "metadata": {},
   "source": [
    "<h2>Conclusion</h2>"
   ]
  },
  {
   "cell_type": "markdown",
   "id": "e52c80f6",
   "metadata": {},
   "source": [
    "<p> Based on the results, Model 2, Support Vector Machine is the best model for this Fake News Detection </p>"
   ]
  },
  {
   "cell_type": "code",
   "execution_count": null,
   "id": "9718748c",
   "metadata": {},
   "outputs": [],
   "source": []
  }
 ],
 "metadata": {
  "kernelspec": {
   "display_name": "Python 3 (ipykernel)",
   "language": "python",
   "name": "python3"
  },
  "language_info": {
   "codemirror_mode": {
    "name": "ipython",
    "version": 3
   },
   "file_extension": ".py",
   "mimetype": "text/x-python",
   "name": "python",
   "nbconvert_exporter": "python",
   "pygments_lexer": "ipython3",
   "version": "3.9.7"
  }
 },
 "nbformat": 4,
 "nbformat_minor": 5
}
